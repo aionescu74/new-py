{
 "cells": [
  {
   "cell_type": "code",
   "execution_count": null,
   "metadata": {},
   "outputs": [],
   "source": [
    "pip install -U pip setuptools wheel\n",
    "pip install -U spacy\n",
    "#pip install -U spacy[transformers,lookups]\n",
    "\n",
    "\n",
    "# details here: https://spacy.io/usage\n",
    "\n",
    "#python -m spacy download en_core_web_sm\n",
    "#python -m spacy download ro_core_news_sm"
   ]
  },
  {
   "cell_type": "code",
   "execution_count": 5,
   "metadata": {},
   "outputs": [
    {
     "data": {
      "text/plain": [
       "<spacy.lang.en.English at 0x29df98f44a0>"
      ]
     },
     "execution_count": 5,
     "metadata": {},
     "output_type": "execute_result"
    }
   ],
   "source": [
    "spacy.load('en_core_web_sm')"
   ]
  },
  {
   "cell_type": "code",
   "execution_count": 1,
   "metadata": {},
   "outputs": [
    {
     "name": "stdout",
     "output_type": "stream",
     "text": [
      "Hello\n",
      "world\n",
      "!\n"
     ]
    }
   ],
   "source": [
    "import spacy\n",
    "nlp = spacy.blank(\"en\")\n",
    "doc = nlp(\"Hello world!\")\n",
    "\n",
    "for token in doc:\n",
    "    print(token.text)"
   ]
  },
  {
   "cell_type": "code",
   "execution_count": 2,
   "metadata": {},
   "outputs": [
    {
     "data": {
      "text/plain": [
       "world"
      ]
     },
     "execution_count": 2,
     "metadata": {},
     "output_type": "execute_result"
    }
   ],
   "source": [
    "token = doc[1]\n",
    "token"
   ]
  },
  {
   "cell_type": "code",
   "execution_count": 3,
   "metadata": {},
   "outputs": [
    {
     "name": "stdout",
     "output_type": "stream",
     "text": [
      "coffee 3197928453018144401 True\n"
     ]
    }
   ],
   "source": [
    "lexeme = nlp.vocab[\"coffee\"]\n",
    "print(lexeme.text, lexeme.orth, lexeme.is_alpha)"
   ]
  },
  {
   "cell_type": "code",
   "execution_count": 4,
   "metadata": {},
   "outputs": [],
   "source": [
    "nlp = spacy.load(\"ro_core_news_sm\")"
   ]
  },
  {
   "cell_type": "code",
   "execution_count": 5,
   "metadata": {},
   "outputs": [
    {
     "name": "stdout",
     "output_type": "stream",
     "text": [
      "Verbs: ['număra', 'arăta', 'accelera', 'varia']\n"
     ]
    }
   ],
   "source": [
    "text = 'Vânzările de bunuri de larg consum cresc de cinci ori mai repede în online decât în offline. România nu se numără printre ţările unde shoppingul virtual are cea mai mare viteză\\nCompaniiÎn România, vânzările de bunuri de larg consum (FMCG) cresc cu 29% în mediul online faţă de 6% în ma\\xadga\\xadzinele fizice, arată un studiu al com\\xadpa\\xadniei de cercetare de piaţă NielsenIQ.\\nSpre comparaţie, în Italia shoppingul virtual accelerează mult mai tare, cu un plus de 83% în acest an (până în noiembrie) versus 2020.\\nÎn Marea Britanie creşterea e de 65%.\\nÎn ceea ce priveşte cumpără\\xadturile offline, cele din magazinele fi\\xadzice, creşterea variază de regulă de la 3% la 11%.\\nExcepţie fac India (0%) şi Turcia (25%).'\n",
    "doc = nlp(text)\n",
    "\n",
    "#print(\"Noun phrases:\", [chunk.text for chunk in doc.noun_chunks])\n",
    "print(\"Verbs:\", [token.lemma_ for token in doc if token.pos_ == \"VERB\"])"
   ]
  },
  {
   "cell_type": "code",
   "execution_count": 6,
   "metadata": {},
   "outputs": [
    {
     "name": "stdout",
     "output_type": "stream",
     "text": [
      "cinci NUMERIC_VALUE\n",
      "România GPE\n",
      "România GPE\n",
      "FMCG ORGANIZATION\n",
      "29% NUMERIC_VALUE\n",
      "6% NUMERIC_VALUE\n",
      "Italia GPE\n",
      "83% NUMERIC_VALUE\n",
      "acest an DATETIME\n",
      "noiembrie DATETIME\n",
      "2020 NUMERIC_VALUE\n",
      "Marea Britanie GPE\n",
      "65% NUMERIC_VALUE\n",
      "priveşte PERSON\n",
      "3% NUMERIC_VALUE\n",
      "11% NUMERIC_VALUE\n",
      "India GPE\n",
      "0% NUMERIC_VALUE\n",
      "Turcia GPE\n",
      "25% NUMERIC_VALUE\n"
     ]
    }
   ],
   "source": [
    "for entity in doc.ents:\n",
    "    print(entity.text, entity.label_)"
   ]
  },
  {
   "cell_type": "code",
   "execution_count": 7,
   "metadata": {},
   "outputs": [
    {
     "name": "stdout",
     "output_type": "stream",
     "text": [
      "Apple plănuiește să cumpere o companie britanică pentru un miliard de dolari\n",
      "Apple PROPN nsubj\n",
      "plănuiește AUX ROOT\n",
      "să PART mark\n",
      "cumpere AUX ccomp\n",
      "o DET det\n",
      "companie NOUN obj\n",
      "britanică ADJ amod\n",
      "pentru ADP case\n",
      "un DET det\n",
      "miliard NUM obl\n",
      "de ADP case\n",
      "dolari NOUN nmod\n"
     ]
    }
   ],
   "source": [
    "from spacy.lang.ro.examples import sentences \n",
    "doc = nlp(sentences[0])\n",
    "print(doc.text)\n",
    "for token in doc:\n",
    "    print(token.text, token.pos_, token.dep_)"
   ]
  }
 ],
 "metadata": {
  "kernelspec": {
   "display_name": "Python 3",
   "language": "python",
   "name": "python3"
  },
  "language_info": {
   "codemirror_mode": {
    "name": "ipython",
    "version": 3
   },
   "file_extension": ".py",
   "mimetype": "text/x-python",
   "name": "python",
   "nbconvert_exporter": "python",
   "pygments_lexer": "ipython3",
   "version": "3.12.0"
  }
 },
 "nbformat": 4,
 "nbformat_minor": 2
}
